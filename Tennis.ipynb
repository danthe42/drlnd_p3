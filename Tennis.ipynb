{
 "cells": [
  {
   "cell_type": "markdown",
   "metadata": {},
   "source": [
    "# Collaboration and Competition\n",
    "\n",
    "---\n",
    "\n",
    "In this notebook, you will learn how to use the Unity ML-Agents environment for the third project of the [Deep Reinforcement Learning Nanodegree](https://www.udacity.com/course/deep-reinforcement-learning-nanodegree--nd893) program.\n",
    "\n",
    "### 1. Start the Environment\n",
    "\n",
    "We begin by importing the necessary packages.  If the code cell below returns an error, please revisit the project instructions to double-check that you have installed [Unity ML-Agents](https://github.com/Unity-Technologies/ml-agents/blob/master/docs/Installation.md) and [NumPy](http://www.numpy.org/)."
   ]
  },
  {
   "cell_type": "code",
   "execution_count": 1,
   "metadata": {},
   "outputs": [],
   "source": [
    "from unityagents import UnityEnvironment\n",
    "import numpy as np"
   ]
  },
  {
   "cell_type": "markdown",
   "metadata": {},
   "source": [
    "Next, we will start the environment!  **_Before running the code cell below_**, change the `file_name` parameter to match the location of the Unity environment that you downloaded.\n",
    "\n",
    "- **Mac**: `\"path/to/Tennis.app\"`\n",
    "- **Windows** (x86): `\"path/to/Tennis_Windows_x86/Tennis.exe\"`\n",
    "- **Windows** (x86_64): `\"path/to/Tennis_Windows_x86_64/Tennis.exe\"`\n",
    "- **Linux** (x86): `\"path/to/Tennis_Linux/Tennis.x86\"`\n",
    "- **Linux** (x86_64): `\"path/to/Tennis_Linux/Tennis.x86_64\"`\n",
    "- **Linux** (x86, headless): `\"path/to/Tennis_Linux_NoVis/Tennis.x86\"`\n",
    "- **Linux** (x86_64, headless): `\"path/to/Tennis_Linux_NoVis/Tennis.x86_64\"`\n",
    "\n",
    "For instance, if you are using a Mac, then you downloaded `Tennis.app`.  If this file is in the same folder as the notebook, then the line below should appear as follows:\n",
    "```\n",
    "env = UnityEnvironment(file_name=\"Tennis.app\")\n",
    "```"
   ]
  },
  {
   "cell_type": "code",
   "execution_count": 2,
   "metadata": {},
   "outputs": [
    {
     "name": "stderr",
     "output_type": "stream",
     "text": [
      "INFO:unityagents:\n",
      "'Academy' started successfully!\n",
      "Unity Academy name: Academy\n",
      "        Number of Brains: 1\n",
      "        Number of External Brains : 1\n",
      "        Lesson number : 0\n",
      "        Reset Parameters :\n",
      "\t\t\n",
      "Unity brain name: TennisBrain\n",
      "        Number of Visual Observations (per agent): 0\n",
      "        Vector Observation space type: continuous\n",
      "        Vector Observation space size (per agent): 8\n",
      "        Number of stacked Vector Observation: 3\n",
      "        Vector Action space type: continuous\n",
      "        Vector Action space size (per agent): 2\n",
      "        Vector Action descriptions: , \n"
     ]
    }
   ],
   "source": [
    "env = UnityEnvironment(file_name=\"Tennis.exe\")"
   ]
  },
  {
   "cell_type": "markdown",
   "metadata": {},
   "source": [
    "Environments contain **_brains_** which are responsible for deciding the actions of their associated agents. Here we check for the first brain available, and set it as the default brain we will be controlling from Python."
   ]
  },
  {
   "cell_type": "code",
   "execution_count": 3,
   "metadata": {},
   "outputs": [],
   "source": [
    "# get the default brain\n",
    "brain_name = env.brain_names[0]\n",
    "brain = env.brains[brain_name]"
   ]
  },
  {
   "cell_type": "markdown",
   "metadata": {},
   "source": [
    "### 2. Examine the State and Action Spaces\n",
    "\n",
    "In this environment, two agents control rackets to bounce a ball over a net. If an agent hits the ball over the net, it receives a reward of +0.1.  If an agent lets a ball hit the ground or hits the ball out of bounds, it receives a reward of -0.01.  Thus, the goal of each agent is to keep the ball in play.\n",
    "\n",
    "The observation space consists of 8 variables corresponding to the position and velocity of the ball and racket. Two continuous actions are available, corresponding to movement toward (or away from) the net, and jumping. \n",
    "\n",
    "Run the code cell below to print some information about the environment."
   ]
  },
  {
   "cell_type": "code",
   "execution_count": 4,
   "metadata": {},
   "outputs": [
    {
     "name": "stdout",
     "output_type": "stream",
     "text": [
      "Number of agents: 2\n",
      "Size of each action: 2\n",
      "There are 2 agents. Each observes a state with length: 24\n",
      "The state for the first agent looks like: [ 0.          0.          0.          0.          0.          0.\n",
      "  0.          0.          0.          0.          0.          0.\n",
      "  0.          0.          0.          0.         -6.65278625 -1.5\n",
      " -0.          0.          6.83172083  6.         -0.          0.        ]\n"
     ]
    }
   ],
   "source": [
    "# reset the environment\n",
    "env_info = env.reset(train_mode=True)[brain_name]\n",
    "\n",
    "# number of agents \n",
    "num_agents = len(env_info.agents)\n",
    "print('Number of agents:', num_agents)\n",
    "\n",
    "# size of each action\n",
    "action_size = brain.vector_action_space_size\n",
    "print('Size of each action:', action_size)\n",
    "\n",
    "# examine the state space \n",
    "states = env_info.vector_observations\n",
    "state_size = states.shape[1]\n",
    "print('There are {} agents. Each observes a state with length: {}'.format(states.shape[0], state_size))\n",
    "print('The state for the first agent looks like:', states[0])"
   ]
  },
  {
   "cell_type": "markdown",
   "metadata": {},
   "source": [
    "### 3. Take Random Actions in the Environment\n",
    "\n",
    "In the next code cell, you will learn how to use the Python API to control the agents and receive feedback from the environment.\n",
    "\n",
    "Once this cell is executed, you will watch the agents' performance, if they select actions at random with each time step.  A window should pop up that allows you to observe the agents.\n",
    "\n",
    "Of course, as part of the project, you'll have to change the code so that the agents are able to use their experiences to gradually choose better actions when interacting with the environment!"
   ]
  },
  {
   "cell_type": "code",
   "execution_count": 5,
   "metadata": {},
   "outputs": [
    {
     "name": "stdout",
     "output_type": "stream",
     "text": [
      "Score (max over agents) from episode 1: 0.10000000149011612\n",
      "Score (max over agents) from episode 2: 0.09000000171363354\n",
      "Score (max over agents) from episode 3: 0.0\n",
      "Score (max over agents) from episode 4: 0.0\n",
      "Score (max over agents) from episode 5: 0.0\n"
     ]
    }
   ],
   "source": [
    "for i in range(1, 6):                                      # play game for 5 episodes\n",
    "    env_info = env.reset(train_mode=False)[brain_name]     # reset the environment    \n",
    "    states = env_info.vector_observations                  # get the current state (for each agent)\n",
    "    scores = np.zeros(num_agents)                          # initialize the score (for each agent)\n",
    "    while True:\n",
    "        actions = np.random.randn(num_agents, action_size) # select an action (for each agent)\n",
    "        actions = np.clip(actions, -1, 1)                  # all actions between -1 and 1\n",
    "        env_info = env.step(actions)[brain_name]           # send all actions to tne environment\n",
    "        next_states = env_info.vector_observations         # get next state (for each agent)\n",
    "        \n",
    "        rewards = env_info.rewards                         # get reward (for each agent)\n",
    "        dones = env_info.local_done                        # see if episode finished\n",
    "        scores += env_info.rewards                         # update the score (for each agent)\n",
    "        states = next_states                               # roll over states to next time step\n",
    "        if np.any(dones):                                  # exit loop if episode finished\n",
    "            break\n",
    "    print('Score (max over agents) from episode {}: {}'.format(i, np.max(scores)))"
   ]
  },
  {
   "cell_type": "markdown",
   "metadata": {},
   "source": [
    "### 4. It's Your Turn to train !\n",
    "\n",
    "Now it's your turn to train your own agent to solve the environment!  When training the environment, set `train_mode=True`, so that the line for resetting the environment looks like the following:\n",
    "```python\n",
    "env_info = env.reset(train_mode=True)[brain_name]\n",
    "```"
   ]
  },
  {
   "cell_type": "code",
   "execution_count": 6,
   "metadata": {},
   "outputs": [
    {
     "name": "stdout",
     "output_type": "stream",
     "text": [
      "Random number generator initialized with seed value: 1234\n"
     ]
    }
   ],
   "source": [
    "import numpy as np\n",
    "import torch\n",
    "import random\n",
    "\n",
    "# Set initial random seed\n",
    "\n",
    "seed = 1234\n",
    "\n",
    "random.seed(seed)\n",
    "np.random.seed(seed)\n",
    "torch.manual_seed(seed)\n",
    "#torch.use_deterministic_algorithms(True)\n",
    "\n",
    "print(\"Random number generator initialized with seed value:\", seed)    "
   ]
  },
  {
   "cell_type": "code",
   "execution_count": 7,
   "metadata": {},
   "outputs": [
    {
     "name": "stdout",
     "output_type": "stream",
     "text": [
      "Creating actor model using Linear layers in the following configuration: 24 -> 256 -> 128 -> 2 \n",
      "Creating critic model using Linear layers in the following configuration: 52 -> 256 -> 64 -> 1 \n",
      "Creating actor model using Linear layers in the following configuration: 24 -> 256 -> 128 -> 2 \n",
      "Creating critic model using Linear layers in the following configuration: 52 -> 256 -> 64 -> 1 \n",
      "Creating actor model using Linear layers in the following configuration: 24 -> 256 -> 128 -> 2 \n",
      "Creating critic model using Linear layers in the following configuration: 52 -> 256 -> 64 -> 1 \n",
      "Creating actor model using Linear layers in the following configuration: 24 -> 256 -> 128 -> 2 \n",
      "Creating critic model using Linear layers in the following configuration: 52 -> 256 -> 64 -> 1 \n"
     ]
    }
   ],
   "source": [
    "%load_ext autoreload\n",
    "%autoreload 2\n",
    "\n",
    "from utilities import transpose_list, transpose_to_tensor\n",
    "from buffer import ReplayBuffer\n",
    "from p3_agent import MADDPG\n",
    "\n",
    "replay_buffer_size = 5e5\n",
    "\n",
    "maddpg = MADDPG(state_size, action_size, \n",
    "                tau=0.12,\n",
    "                discount_factor=0.9999,\n",
    "                gradient_clip=1.0,\n",
    "                lr_actor=4.0e-5, \n",
    "                lr_critic=4.0e-4\n",
    "               )\n",
    "\n",
    "buffer = ReplayBuffer(int(replay_buffer_size)) \n",
    "\n",
    "\n"
   ]
  },
  {
   "cell_type": "code",
   "execution_count": 8,
   "metadata": {},
   "outputs": [],
   "source": [
    "from collections import deque \n",
    "import time\n",
    "\n",
    "def train(number_of_episodes=3000, noise_scale=2.0,\n",
    "         noise_reduction=0.9999, minibatch_size=1024):\n",
    "\n",
    "    start_time = time.time()\n",
    "    samples_added = 0\n",
    "    scores_window = deque(maxlen=100)  # last 100 scores\n",
    "    all_avg_scores = []\n",
    "    for episode in range(number_of_episodes):\n",
    "\n",
    "        # on a new episode: initialize agent, environment and scores\n",
    "        maddpg.init_episode()\n",
    "        env_info = env.reset(train_mode=True)[brain_name]\n",
    "        observations = env_info.vector_observations\n",
    "        scores = np.zeros(num_agents) \n",
    "        \n",
    "        while True:\n",
    "            # act using the current policy and exploration      \n",
    "            actions = maddpg.act( torch.tensor(observations, dtype=torch.float), noise_scale )\n",
    "            \n",
    "            noise_scale *= noise_reduction\n",
    "            actions = torch.stack(actions).detach().cpu().numpy()\n",
    "            actions = np.clip(actions, -1, 1)                  # all actions between -1 and 1\n",
    "            env_info = env.step(actions)[brain_name]           # send all actions to the environment\n",
    "            next_observations = env_info.vector_observations         # get next state (for each agent)\n",
    "\n",
    "            rewards = env_info.rewards                         # get reward (for each agent)\n",
    "            dones = env_info.local_done                        # see if episode finished\n",
    "            assert(dones[0]==dones[1])                         # it must be the same for all agents\n",
    "\n",
    "            transition = (observations, actions, rewards, next_observations, dones) \n",
    "            buffer.push(transition)\n",
    "            samples_added += 1\n",
    "            \n",
    "            observations = next_observations                   # roll over states to next time step\n",
    "            scores += env_info.rewards                         # update the score (for each agent)\n",
    "            \n",
    "            if ( len(buffer)>minibatch_size ):    # and ( samples_added >= 3 ):     \n",
    "                for agent in range(num_agents):\n",
    "                    samples = buffer.sample(minibatch_size)\n",
    "                    maddpg.update( samples, agent )\n",
    "                maddpg.update_targets()                            #soft update the target network towards the actual networks \n",
    "                samples_added = 0\n",
    "                \n",
    "            if np.any(dones):                                  # exit loop if episode finished\n",
    "                break\n",
    "        scores_window.append(np.max(scores))\n",
    "        all_avg_scores.append(scores)\n",
    "        print('\\rEpisode {}\\tAvg score in 100 episodes: {:.4f} \\tScore (max over agents) from last episode: {:.4f}'.format(episode, np.mean(scores_window), np.max(scores)), end=\"\")\n",
    "        if episode % 100 == 0:\n",
    "            print('\\rEpisode {}\\tAvg score in 100 episodes: {:.4f} \\tScore (max over agents) from last episode: {:.4f} \\t Elapsed time: {}'.format(episode, np.mean(scores_window), np.max(scores), time.time() - start_time))\n",
    "        if np.mean(scores_window)>=0.5:\n",
    "            print('\\nEnvironment solved in {:d} episodes!\\tAverage Score: {:.4f}'.format(episode, np.mean(scores_window)))\n",
    "            torch.save(maddpg.maddpg_agent[0].actor.state_dict(), \"agent0_actor_net.pth\")\n",
    "            torch.save(maddpg.maddpg_agent[0].critic.state_dict(), \"agent0_critic_net.pth\")\n",
    "            torch.save(maddpg.maddpg_agent[1].actor.state_dict(), \"agent1_actor_net.pth\")\n",
    "            torch.save(maddpg.maddpg_agent[1].critic.state_dict(), \"agent1_critic_net.pth\")\n",
    "            print(\"Model saved.\")\n",
    "            break\n",
    "            \n",
    "    return all_avg_scores\n"
   ]
  },
  {
   "cell_type": "code",
   "execution_count": 9,
   "metadata": {},
   "outputs": [
    {
     "name": "stdout",
     "output_type": "stream",
     "text": [
      "Episode 0\tAvg score in 100 episodes: 0.0000 \tScore (max over agents) from last episode: 0.0000 \t Elapsed time: 0.8319547176361084\n",
      "Episode 100\tAvg score in 100 episodes: 0.0030 \tScore (max over agents) from last episode: 0.0000 \t Elapsed time: 35.67582058906555\n",
      "Episode 200\tAvg score in 100 episodes: 0.0000 \tScore (max over agents) from last episode: 0.0000 \t Elapsed time: 81.94291687011719\n",
      "Episode 300\tAvg score in 100 episodes: 0.0000 \tScore (max over agents) from last episode: 0.0000 \t Elapsed time: 127.65915036201477\n",
      "Episode 400\tAvg score in 100 episodes: 0.0019 \tScore (max over agents) from last episode: 0.1000 \t Elapsed time: 174.52080130577087\n",
      "Episode 500\tAvg score in 100 episodes: 0.0268 \tScore (max over agents) from last episode: 0.0000 \t Elapsed time: 241.089834690094\n",
      "Episode 600\tAvg score in 100 episodes: 0.0317 \tScore (max over agents) from last episode: 0.0000 \t Elapsed time: 317.3477473258972\n",
      "Episode 700\tAvg score in 100 episodes: 0.0500 \tScore (max over agents) from last episode: 0.0900 \t Elapsed time: 399.8703875541687\n",
      "Episode 800\tAvg score in 100 episodes: 0.0418 \tScore (max over agents) from last episode: 0.0000 \t Elapsed time: 474.23628330230713\n",
      "Episode 900\tAvg score in 100 episodes: 0.0480 \tScore (max over agents) from last episode: 0.0000 \t Elapsed time: 559.395269870758\n",
      "Episode 1000\tAvg score in 100 episodes: 0.0494 \tScore (max over agents) from last episode: 0.0900 \t Elapsed time: 647.6791338920593\n",
      "Episode 1100\tAvg score in 100 episodes: 0.0744 \tScore (max over agents) from last episode: 0.1000 \t Elapsed time: 771.7751564979553\n",
      "Episode 1200\tAvg score in 100 episodes: 0.1391 \tScore (max over agents) from last episode: 0.2000 \t Elapsed time: 979.7116587162018\n",
      "Episode 1300\tAvg score in 100 episodes: 0.2083 \tScore (max over agents) from last episode: 0.2000 \t Elapsed time: 1294.2744421958923\n",
      "Episode 1385\tAvg score in 100 episodes: 0.5052 \tScore (max over agents) from last episode: 2.0000\n",
      "Environment solved in 1385 episodes!\tAverage Score: 0.5052\n",
      "Model saved.\n",
      "Elapsed time: 1916.393801689148 seconds.\n"
     ]
    }
   ],
   "source": [
    "import time\n",
    "start_time = time.time()\n",
    "\n",
    "scores = train(number_of_episodes = 10000,     #100\n",
    "               noise_scale = 1.0,           # (starting) amplitude of noise\n",
    "               noise_reduction = 0.9999,    # after each episode decrease the noise scale \n",
    "               minibatch_size = 512\n",
    ")\n",
    "elapsed_time = time.time() - start_time\n",
    "print(\"Elapsed time:\", elapsed_time, \"seconds.\")\n"
   ]
  },
  {
   "cell_type": "code",
   "execution_count": 10,
   "metadata": {},
   "outputs": [
    {
     "data": {
      "image/png": "[encoded data removed]",
      "text/plain": [
       "<Figure size 432x288 with 1 Axes>"
      ]
     },
     "metadata": {
      "needs_background": "light"
     },
     "output_type": "display_data"
    }
   ],
   "source": [
    "import matplotlib.pyplot as plt\n",
    "%matplotlib inline\n",
    "#\n",
    "# plot the scores\n",
    "fig = plt.figure()\n",
    "ax = fig.add_subplot(111)\n",
    "plt.plot(np.arange(len(scores)), np.max(scores, axis=1)) \n",
    "plt.ylabel('Score')\n",
    "plt.xlabel('Episode #')\n",
    "plt.show()\n"
   ]
  },
  {
   "cell_type": "code",
   "execution_count": 11,
   "metadata": {},
   "outputs": [],
   "source": [
    "scores_transposed = np.transpose(scores)"
   ]
  },
  {
   "cell_type": "code",
   "execution_count": 12,
   "metadata": {
    "scrolled": true
   },
   "outputs": [
    {
     "data": {
      "image/png": "[encoded data removed]",
      "text/plain": [
       "<Figure size 432x288 with 2 Axes>"
      ]
     },
     "metadata": {
      "needs_background": "light"
     },
     "output_type": "display_data"
    }
   ],
   "source": [
    "# plot the scores of each different agents\n",
    "import matplotlib.pyplot as plt\n",
    "%matplotlib inline\n",
    "\n",
    "fig, (ax1, ax2) = plt.subplots(2, 1, sharex=True)\n",
    "ax1.plot(np.arange(len(scores_transposed[0])), scores_transposed[0])\n",
    "ax1.set_title(\"Agent 1\")\n",
    "ax2.plot(np.arange(len(scores_transposed[1])), scores_transposed[1])\n",
    "ax2.set_title(\"Agent 2\")\n",
    "plt.show()\n",
    "              "
   ]
  },
  {
   "cell_type": "markdown",
   "metadata": {},
   "source": [
    "### 5. Test the trained agents.\n",
    "\n",
    "And now, try out a few game simulations with our new, trained agents !  "
   ]
  },
  {
   "cell_type": "markdown",
   "metadata": {},
   "source": [
    "First,  create an empty, random model instance, then load the agent data from filesystem to check and ensure that everything necessary about our trained model is stored correctly in persistent storage."
   ]
  },
  {
   "cell_type": "code",
   "execution_count": 13,
   "metadata": {},
   "outputs": [
    {
     "name": "stdout",
     "output_type": "stream",
     "text": [
      "Creating actor model using Linear layers in the following configuration: 24 -> 256 -> 128 -> 2 \n",
      "Creating critic model using Linear layers in the following configuration: 52 -> 256 -> 64 -> 1 \n",
      "Creating actor model using Linear layers in the following configuration: 24 -> 256 -> 128 -> 2 \n",
      "Creating critic model using Linear layers in the following configuration: 52 -> 256 -> 64 -> 1 \n",
      "Creating actor model using Linear layers in the following configuration: 24 -> 256 -> 128 -> 2 \n",
      "Creating critic model using Linear layers in the following configuration: 52 -> 256 -> 64 -> 1 \n",
      "Creating actor model using Linear layers in the following configuration: 24 -> 256 -> 128 -> 2 \n",
      "Creating critic model using Linear layers in the following configuration: 52 -> 256 -> 64 -> 1 \n",
      "Trained networks loaded successfully.\n"
     ]
    }
   ],
   "source": [
    "maddpg = MADDPG(state_size, action_size)\n",
    "\n",
    "maddpg.maddpg_agent[0].actor.load_state_dict(torch.load(\"agent0_actor_net.pth\"))\n",
    "maddpg.maddpg_agent[1].actor.load_state_dict(torch.load(\"agent1_actor_net.pth\"))\n",
    "         \n",
    "print(\"Trained networks loaded successfully.\")"
   ]
  },
  {
   "cell_type": "markdown",
   "metadata": {},
   "source": [
    "And now, let's play 10 episodes, and calculate the average score."
   ]
  },
  {
   "cell_type": "code",
   "execution_count": 14,
   "metadata": {},
   "outputs": [
    {
     "name": "stdout",
     "output_type": "stream",
     "text": [
      "Score (max over agents) from episode 1: 1.9000000283122063\n",
      "Score (max over agents) from episode 2: 1.9000000283122063\n",
      "Score (max over agents) from episode 3: 0.10000000149011612\n",
      "Score (max over agents) from episode 4: 2.0000000298023224\n",
      "Score (max over agents) from episode 5: 0.10000000149011612\n",
      "Score (max over agents) from episode 6: 0.9000000134110451\n",
      "Score (max over agents) from episode 7: 2.600000038743019\n",
      "Score (max over agents) from episode 8: 0.10000000149011612\n",
      "Score (max over agents) from episode 9: 1.3900000229477882\n"
     ]
    }
   ],
   "source": [
    "all_scores = []\n",
    "for i in range(1, 10):                                      # play game for 5 episodes\n",
    "    env_info = env.reset(train_mode=False)[brain_name]     # reset the environment    \n",
    "    states = env_info.vector_observations                  # get the current state (for each agent)\n",
    "    scores = np.zeros(num_agents)                          # initialize the score (for each agent)\n",
    "    while True:\n",
    "        actions = maddpg.act( torch.tensor(states, dtype=torch.float), 0.0 )     # no noise, don't need exploration   \n",
    "        actions = torch.stack(actions).detach().cpu().numpy()\n",
    "        actions = np.clip(actions, -1, 1)                  # all actions between -1 and 1            \n",
    "        env_info = env.step(actions)[brain_name]           # send all actions to tne environment\n",
    "        next_states = env_info.vector_observations         # get next state (for each agent)\n",
    "        \n",
    "        rewards = env_info.rewards                         # get reward (for each agent)\n",
    "        dones = env_info.local_done                        # see if episode finished\n",
    "        scores += env_info.rewards                         # update the score (for each agent)\n",
    "        states = next_states                               # roll over states to next time step\n",
    "        if np.any(dones):                                  # exit loop if episode finished\n",
    "            break\n",
    "    print('Score (max over agents) from episode {}: {}'.format(i, np.max(scores)))\n",
    "    all_scores.append(np.max(scores))\n"
   ]
  },
  {
   "cell_type": "code",
   "execution_count": 15,
   "metadata": {},
   "outputs": [
    {
     "data": {
      "text/plain": [
       "1.2211111295554373"
      ]
     },
     "execution_count": 15,
     "metadata": {},
     "output_type": "execute_result"
    }
   ],
   "source": [
    "np.mean(all_scores)"
   ]
  },
  {
   "cell_type": "markdown",
   "metadata": {},
   "source": [
    "It's above the +0.5 limit, so we are good.\n",
    "\n",
    "When finished, you can close the environment."
   ]
  },
  {
   "cell_type": "code",
   "execution_count": 16,
   "metadata": {},
   "outputs": [],
   "source": [
    "env.close()"
   ]
  }
 ],
 "metadata": {
  "kernelspec": {
   "display_name": "Python 3",
   "language": "python",
   "name": "python3"
  },
  "language_info": {
   "codemirror_mode": {
    "name": "ipython",
    "version": 3
   },
   "file_extension": ".py",
   "mimetype": "text/x-python",
   "name": "python",
   "nbconvert_exporter": "python",
   "pygments_lexer": "ipython3",
   "version": "3.6.13"
  }
 },
 "nbformat": 4,
 "nbformat_minor": 2
}
