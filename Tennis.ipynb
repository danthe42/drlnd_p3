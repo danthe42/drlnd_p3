{
 "cells": [
  {
   "cell_type": "markdown",
   "metadata": {},
   "source": [
    "# Collaboration and Competition\n",
    "\n",
    "---\n",
    "\n",
    "In this notebook, you will learn how to use the Unity ML-Agents environment for the third project of the [Deep Reinforcement Learning Nanodegree](https://www.udacity.com/course/deep-reinforcement-learning-nanodegree--nd893) program.\n",
    "\n",
    "### 1. Start the Environment\n",
    "\n",
    "We begin by importing the necessary packages.  If the code cell below returns an error, please revisit the project instructions to double-check that you have installed [Unity ML-Agents](https://github.com/Unity-Technologies/ml-agents/blob/master/docs/Installation.md) and [NumPy](http://www.numpy.org/)."
   ]
  },
  {
   "cell_type": "code",
   "execution_count": 1,
   "metadata": {},
   "outputs": [],
   "source": [
    "from unityagents import UnityEnvironment\n",
    "import numpy as np"
   ]
  },
  {
   "cell_type": "markdown",
   "metadata": {},
   "source": [
    "Next, we will start the environment!  **_Before running the code cell below_**, change the `file_name` parameter to match the location of the Unity environment that you downloaded.\n",
    "\n",
    "- **Mac**: `\"path/to/Tennis.app\"`\n",
    "- **Windows** (x86): `\"path/to/Tennis_Windows_x86/Tennis.exe\"`\n",
    "- **Windows** (x86_64): `\"path/to/Tennis_Windows_x86_64/Tennis.exe\"`\n",
    "- **Linux** (x86): `\"path/to/Tennis_Linux/Tennis.x86\"`\n",
    "- **Linux** (x86_64): `\"path/to/Tennis_Linux/Tennis.x86_64\"`\n",
    "- **Linux** (x86, headless): `\"path/to/Tennis_Linux_NoVis/Tennis.x86\"`\n",
    "- **Linux** (x86_64, headless): `\"path/to/Tennis_Linux_NoVis/Tennis.x86_64\"`\n",
    "\n",
    "For instance, if you are using a Mac, then you downloaded `Tennis.app`.  If this file is in the same folder as the notebook, then the line below should appear as follows:\n",
    "```\n",
    "env = UnityEnvironment(file_name=\"Tennis.app\")\n",
    "```"
   ]
  },
  {
   "cell_type": "code",
   "execution_count": 2,
   "metadata": {},
   "outputs": [
    {
     "name": "stderr",
     "output_type": "stream",
     "text": [
      "INFO:unityagents:\n",
      "'Academy' started successfully!\n",
      "Unity Academy name: Academy\n",
      "        Number of Brains: 1\n",
      "        Number of External Brains : 1\n",
      "        Lesson number : 0\n",
      "        Reset Parameters :\n",
      "\t\t\n",
      "Unity brain name: TennisBrain\n",
      "        Number of Visual Observations (per agent): 0\n",
      "        Vector Observation space type: continuous\n",
      "        Vector Observation space size (per agent): 8\n",
      "        Number of stacked Vector Observation: 3\n",
      "        Vector Action space type: continuous\n",
      "        Vector Action space size (per agent): 2\n",
      "        Vector Action descriptions: , \n"
     ]
    }
   ],
   "source": [
    "env = UnityEnvironment(file_name=\"Tennis.exe\")"
   ]
  },
  {
   "cell_type": "markdown",
   "metadata": {},
   "source": [
    "Environments contain **_brains_** which are responsible for deciding the actions of their associated agents. Here we check for the first brain available, and set it as the default brain we will be controlling from Python."
   ]
  },
  {
   "cell_type": "code",
   "execution_count": 3,
   "metadata": {},
   "outputs": [],
   "source": [
    "# get the default brain\n",
    "brain_name = env.brain_names[0]\n",
    "brain = env.brains[brain_name]"
   ]
  },
  {
   "cell_type": "markdown",
   "metadata": {},
   "source": [
    "### 2. Examine the State and Action Spaces\n",
    "\n",
    "In this environment, two agents control rackets to bounce a ball over a net. If an agent hits the ball over the net, it receives a reward of +0.1.  If an agent lets a ball hit the ground or hits the ball out of bounds, it receives a reward of -0.01.  Thus, the goal of each agent is to keep the ball in play.\n",
    "\n",
    "The observation space consists of 8 variables corresponding to the position and velocity of the ball and racket. Two continuous actions are available, corresponding to movement toward (or away from) the net, and jumping. \n",
    "\n",
    "Run the code cell below to print some information about the environment."
   ]
  },
  {
   "cell_type": "code",
   "execution_count": 4,
   "metadata": {},
   "outputs": [
    {
     "name": "stdout",
     "output_type": "stream",
     "text": [
      "Number of agents: 2\n",
      "Size of each action: 2\n",
      "There are 2 agents. Each observes a state with length: 24\n",
      "The state for the first agent looks like: [ 0.          0.          0.          0.          0.          0.\n",
      "  0.          0.          0.          0.          0.          0.\n",
      "  0.          0.          0.          0.         -6.65278625 -1.5\n",
      " -0.          0.          6.83172083  6.         -0.          0.        ]\n"
     ]
    }
   ],
   "source": [
    "# reset the environment\n",
    "env_info = env.reset(train_mode=True)[brain_name]\n",
    "\n",
    "# number of agents \n",
    "num_agents = len(env_info.agents)\n",
    "print('Number of agents:', num_agents)\n",
    "\n",
    "# size of each action\n",
    "action_size = brain.vector_action_space_size\n",
    "print('Size of each action:', action_size)\n",
    "\n",
    "# examine the state space \n",
    "states = env_info.vector_observations\n",
    "state_size = states.shape[1]\n",
    "print('There are {} agents. Each observes a state with length: {}'.format(states.shape[0], state_size))\n",
    "print('The state for the first agent looks like:', states[0])"
   ]
  },
  {
   "cell_type": "markdown",
   "metadata": {},
   "source": [
    "### 3. Take Random Actions in the Environment\n",
    "\n",
    "In the next code cell, you will learn how to use the Python API to control the agents and receive feedback from the environment.\n",
    "\n",
    "Once this cell is executed, you will watch the agents' performance, if they select actions at random with each time step.  A window should pop up that allows you to observe the agents.\n",
    "\n",
    "Of course, as part of the project, you'll have to change the code so that the agents are able to use their experiences to gradually choose better actions when interacting with the environment!"
   ]
  },
  {
   "cell_type": "code",
   "execution_count": 5,
   "metadata": {},
   "outputs": [
    {
     "name": "stdout",
     "output_type": "stream",
     "text": [
      "Score (max over agents) from episode 1: 0.0\n",
      "Score (max over agents) from episode 2: 0.09000000171363354\n",
      "Score (max over agents) from episode 3: 0.09000000171363354\n",
      "Score (max over agents) from episode 4: 0.10000000149011612\n",
      "Score (max over agents) from episode 5: 0.09000000171363354\n"
     ]
    }
   ],
   "source": [
    "for i in range(1, 6):                                      # play game for 5 episodes\n",
    "    env_info = env.reset(train_mode=False)[brain_name]     # reset the environment    \n",
    "    states = env_info.vector_observations                  # get the current state (for each agent)\n",
    "    scores = np.zeros(num_agents)                          # initialize the score (for each agent)\n",
    "    while True:\n",
    "        actions = np.random.randn(num_agents, action_size) # select an action (for each agent)\n",
    "        #print(\"Act: \", actions)\n",
    "        actions = np.clip(actions, -1, 1)                  # all actions between -1 and 1\n",
    "        env_info = env.step(actions)[brain_name]           # send all actions to tne environment\n",
    "        next_states = env_info.vector_observations         # get next state (for each agent)\n",
    "        #print(\"States: \", next_states)\n",
    "        \n",
    "        rewards = env_info.rewards                         # get reward (for each agent)\n",
    "        dones = env_info.local_done                        # see if episode finished\n",
    "        scores += env_info.rewards                         # update the score (for each agent)\n",
    "        states = next_states                               # roll over states to next time step\n",
    "        if np.any(dones):                                  # exit loop if episode finished\n",
    "            break\n",
    "    print('Score (max over agents) from episode {}: {}'.format(i, np.max(scores)))"
   ]
  },
  {
   "cell_type": "markdown",
   "metadata": {},
   "source": [
    "### 4. It's Your Turn!\n",
    "\n",
    "Now it's your turn to train your own agent to solve the environment!  When training the environment, set `train_mode=True`, so that the line for resetting the environment looks like the following:\n",
    "```python\n",
    "env_info = env.reset(train_mode=True)[brain_name]\n",
    "```"
   ]
  },
  {
   "cell_type": "code",
   "execution_count": 6,
   "metadata": {},
   "outputs": [
    {
     "name": "stdout",
     "output_type": "stream",
     "text": [
      "Random number generator initialized with seed value: 1234\n"
     ]
    }
   ],
   "source": [
    "import numpy as np\n",
    "import torch\n",
    "import random\n",
    "\n",
    "# Set initial random seed\n",
    "\n",
    "seed = 1234\n",
    "\n",
    "random.seed(seed)\n",
    "np.random.seed(seed)\n",
    "torch.manual_seed(seed)\n",
    "#torch.use_deterministic_algorithms(True)\n",
    "\n",
    "print(\"Random number generator initialized with seed value:\", seed)    "
   ]
  },
  {
   "cell_type": "code",
   "execution_count": 7,
   "metadata": {},
   "outputs": [],
   "source": [
    "%load_ext autoreload\n",
    "%autoreload 2\n",
    "\n",
    "from utilities import transpose_list, transpose_to_tensor\n",
    "from buffer import ReplayBuffer\n",
    "from p3_agent import MADDPG\n",
    "\n",
    "replay_buffer_size = 5e5\n",
    "\n",
    "maddpg = MADDPG(state_size, action_size, \n",
    "                tau=0.08,\n",
    "                discount_factor=0.99,\n",
    "                gradient_clip=1.0,\n",
    "                lr_actor=1.0e-4, \n",
    "                lr_critic=1.0e-3\n",
    "               )\n",
    "\n",
    "buffer = ReplayBuffer(int(replay_buffer_size)) \n",
    "\n",
    "\n"
   ]
  },
  {
   "cell_type": "code",
   "execution_count": 8,
   "metadata": {},
   "outputs": [],
   "source": [
    "from collections import deque \n",
    "import time\n",
    "\n",
    "def train(number_of_episodes=3000, noise_scale=2.0,\n",
    "         noise_reduction=0.9999, minibatch_size=1024):\n",
    "\n",
    "    start_time = time.time()\n",
    "    samples_added = 0\n",
    "    scores_window = deque(maxlen=100)  # last 100 scores\n",
    "    all_avg_scores = []\n",
    "    for episode in range(number_of_episodes):\n",
    "\n",
    "        # on a new episode: initialize agent, environment and scores\n",
    "        maddpg.init_episode()\n",
    "        env_info = env.reset(train_mode=True)[brain_name]\n",
    "        observations = env_info.vector_observations\n",
    "        scores = np.zeros(num_agents) \n",
    "        \n",
    "        while True:\n",
    "            # act using the current policy and exploration\n",
    "            actions = maddpg.act( torch.tensor(observations, dtype=torch.float), noise_scale )\n",
    "\n",
    "            noise_scale *= noise_reduction\n",
    "            actions = torch.stack(actions).detach().cpu().numpy()\n",
    "            actions = np.clip(actions, -1, 1)                  # all actions between -1 and 1\n",
    "            env_info = env.step(actions)[brain_name]           # send all actions to tne environment\n",
    "            next_observations = env_info.vector_observations         # get next state (for each agent)\n",
    "\n",
    "            rewards = env_info.rewards                         # get reward (for each agent)\n",
    "            dones = env_info.local_done                        # see if episode finished\n",
    "            assert(dones[0]==dones[1])                         # it must be the same for all agents\n",
    "\n",
    "            transition = (observations, actions, rewards, next_observations, dones) \n",
    "            #print(\"Actions: \", transition[1])\n",
    "            buffer.push(transition)\n",
    "            samples_added += 1\n",
    "            \n",
    "            observations = next_observations                   # roll over states to next time step\n",
    "            scores += env_info.rewards                         # update the score (for each agent)\n",
    "            \n",
    "            if ( len(buffer)>minibatch_size ):    # and ( samples_added >= 3 ):     \n",
    "                for agent in range(num_agents):\n",
    "                    samples = buffer.sample(minibatch_size)\n",
    "                    maddpg.update( samples, agent )\n",
    "                maddpg.update_targets()                            #soft update the target network towards the actual networks \n",
    "                samples_added = 0\n",
    "                \n",
    "            if np.any(dones):                                  # exit loop if episode finished\n",
    "                break\n",
    "        scores_window.append(np.max(scores))\n",
    "        all_avg_scores.append(scores)\n",
    "        print('\\rEpisode {}\\tAvg score in 100 episodes: {:.4f} \\tScore (max over agents) from last episode: {:.4f}'.format(episode, np.mean(scores_window), np.max(scores)), end=\"\")\n",
    "        if episode % 100 == 0:\n",
    "            print('\\rEpisode {}\\tAvg score in 100 episodes: {:.4f} \\tScore (max over agents) from last episode: {:.4f} \\t Elapsed time: {}'.format(episode, np.mean(scores_window), np.max(scores), time.time() - start_time))\n",
    "        if np.mean(scores_window)>=0.5:\n",
    "            print('\\nEnvironment solved in {:d} episodes!\\tAverage Score: {:.4f}'.format(episode, np.mean(scores_window)))\n",
    "            torch.save(maddpg.maddpg_agent[0].target_actor.state_dict(), \"agent0_actor_net.pth\")\n",
    "            torch.save(maddpg.maddpg_agent[0].target_critic.state_dict(), \"agent0_critic_net.pth\")\n",
    "            torch.save(maddpg.maddpg_agent[1].target_actor.state_dict(), \"agent1_actor_net.pth\")\n",
    "            torch.save(maddpg.maddpg_agent[1].target_critic.state_dict(), \"agent1_critic_net.pth\")\n",
    "            print(\"Model saved.\")\n",
    "            break\n",
    "            \n",
    "    return all_avg_scores\n"
   ]
  },
  {
   "cell_type": "code",
   "execution_count": null,
   "metadata": {},
   "outputs": [
    {
     "name": "stdout",
     "output_type": "stream",
     "text": [
      "Episode 0\tAvg score in 100 episodes: 0.0000 \tScore (max over agents) from last episode: 0.0000 \t Elapsed time: 0.7943532466888428\n",
      "Episode 100\tAvg score in 100 episodes: 0.0019 \tScore (max over agents) from last episode: 0.0000 \t Elapsed time: 33.088640451431274\n",
      "Episode 200\tAvg score in 100 episodes: 0.0054 \tScore (max over agents) from last episode: 0.0000 \t Elapsed time: 83.1942765712738\n",
      "Episode 300\tAvg score in 100 episodes: 0.0207 \tScore (max over agents) from last episode: 0.1000 \t Elapsed time: 143.80912327766418\n",
      "Episode 400\tAvg score in 100 episodes: 0.0396 \tScore (max over agents) from last episode: 0.0000 \t Elapsed time: 221.59648060798645\n",
      "Episode 500\tAvg score in 100 episodes: 0.0373 \tScore (max over agents) from last episode: 0.0000 \t Elapsed time: 298.3396019935608\n",
      "Episode 600\tAvg score in 100 episodes: 0.0300 \tScore (max over agents) from last episode: 0.1000 \t Elapsed time: 374.565833568573\n",
      "Episode 700\tAvg score in 100 episodes: 0.0647 \tScore (max over agents) from last episode: 0.0000 \t Elapsed time: 485.4818105697632\n",
      "Episode 800\tAvg score in 100 episodes: 0.0942 \tScore (max over agents) from last episode: 0.0000 \t Elapsed time: 623.5919163227081\n",
      "Episode 900\tAvg score in 100 episodes: 0.1410 \tScore (max over agents) from last episode: 0.2000 \t Elapsed time: 831.9509875774384\n",
      "Episode 1000\tAvg score in 100 episodes: 0.1480 \tScore (max over agents) from last episode: 0.2000 \t Elapsed time: 1018.3743453025818\n",
      "Episode 1100\tAvg score in 100 episodes: 0.1519 \tScore (max over agents) from last episode: 0.2000 \t Elapsed time: 1214.4641489982605\n",
      "Episode 1200\tAvg score in 100 episodes: 0.1400 \tScore (max over agents) from last episode: 0.2000 \t Elapsed time: 1397.3207380771637\n",
      "Episode 1300\tAvg score in 100 episodes: 0.1210 \tScore (max over agents) from last episode: 0.1000 \t Elapsed time: 1571.4298527240753\n",
      "Episode 1400\tAvg score in 100 episodes: 0.1410 \tScore (max over agents) from last episode: 0.0000 \t Elapsed time: 1755.3342287540436\n",
      "Episode 1500\tAvg score in 100 episodes: 0.1399 \tScore (max over agents) from last episode: 0.1000 \t Elapsed time: 1952.1504447460175\n",
      "Episode 1600\tAvg score in 100 episodes: 0.1629 \tScore (max over agents) from last episode: 0.0000 \t Elapsed time: 2184.189860343933\n",
      "Episode 1700\tAvg score in 100 episodes: 0.1746 \tScore (max over agents) from last episode: 0.0900 \t Elapsed time: 2422.01109457016\n",
      "Episode 1800\tAvg score in 100 episodes: 0.1907 \tScore (max over agents) from last episode: 0.2000 \t Elapsed time: 2677.2573642730713\n",
      "Episode 1885\tAvg score in 100 episodes: 0.1805 \tScore (max over agents) from last episode: 0.1000"
     ]
    }
   ],
   "source": [
    "import time\n",
    "start_time = time.time()\n",
    "\n",
    "scores = train(number_of_episodes = 10000,     #100\n",
    "               noise_scale = 1.0,           # (starting) amplitude of noise\n",
    "               noise_reduction = 0.9999,    # after each episode decrease the noise scale \n",
    "               minibatch_size = 512\n",
    ")\n",
    "elapsed_time = time.time() - start_time\n",
    "print(\"Elapsed time:\", elapsed_time, \"seconds.\")\n"
   ]
  },
  {
   "cell_type": "code",
   "execution_count": null,
   "metadata": {},
   "outputs": [],
   "source": [
    "#print(\"l: \", len(scores))\n",
    "#print(\"m: \", np.max(scores, axis=1))\n",
    "import matplotlib.pyplot as plt\n",
    "%matplotlib inline\n",
    "#\n",
    "# plot the scores\n",
    "fig = plt.figure()\n",
    "ax = fig.add_subplot(111)\n",
    "plt.plot(np.arange(len(scores)), np.max(scores, axis=1)) \n",
    "plt.ylabel('Score')\n",
    "plt.xlabel('Episode #')\n",
    "plt.show()\n"
   ]
  },
  {
   "cell_type": "code",
   "execution_count": null,
   "metadata": {},
   "outputs": [],
   "source": [
    "scores_transposed = np.transpose(scores)"
   ]
  },
  {
   "cell_type": "code",
   "execution_count": null,
   "metadata": {},
   "outputs": [],
   "source": [
    "# plot the scores of each different agents\n",
    "import matplotlib.pyplot as plt\n",
    "%matplotlib inline\n",
    "\n",
    "fig, (ax1, ax2) = plt.subplots(2, 1, sharex=True)\n",
    "ax1.plot(np.arange(len(scores_transposed[0])), scores_transposed[0])\n",
    "ax1.set_title(\"Agent 1\")\n",
    "ax2.plot(np.arange(len(scores_transposed[1])), scores_transposed[1])\n",
    "ax2.set_title(\"Agent 2\")\n",
    "plt.show()\n",
    "              "
   ]
  },
  {
   "cell_type": "markdown",
   "metadata": {},
   "source": [
    "When finished, you can close the environment."
   ]
  },
  {
   "cell_type": "code",
   "execution_count": null,
   "metadata": {},
   "outputs": [],
   "source": [
    "env.close()"
   ]
  }
 ],
 "metadata": {
  "kernelspec": {
   "display_name": "Python 3",
   "language": "python",
   "name": "python3"
  },
  "language_info": {
   "codemirror_mode": {
    "name": "ipython",
    "version": 3
   },
   "file_extension": ".py",
   "mimetype": "text/x-python",
   "name": "python",
   "nbconvert_exporter": "python",
   "pygments_lexer": "ipython3",
   "version": "3.6.13"
  }
 },
 "nbformat": 4,
 "nbformat_minor": 2
}
